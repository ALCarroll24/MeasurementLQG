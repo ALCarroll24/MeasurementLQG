{
 "cells": [
  {
   "cell_type": "code",
   "execution_count": 10,
   "metadata": {},
   "outputs": [
    {
     "name": "stdout",
     "output_type": "stream",
     "text": [
      "Corner 0 - Bearing: 3.138988213439674, Covariance Trace: 2.0\n",
      "Car yaw: 2.941592653589793, OOI bearing: -0.19739555984988075\n",
      "Corner 1 - Bearing: 3.138988213439674, Covariance Trace: 2.0\n",
      "Car yaw: 2.941592653589793, OOI bearing: -0.19739555984988075\n",
      "Corner 2 - Bearing: 3.138988213439674, Covariance Trace: 2.0\n",
      "Car yaw: 2.941592653589793, OOI bearing: -0.19739555984988075\n",
      "Corner 3 - Bearing: 3.138988213439674, Covariance Trace: 2.0\n",
      "Car yaw: 2.941592653589793, OOI bearing: -0.19739555984988075\n",
      "Cumulative Bearing Result: 12.555952853758695\n"
     ]
    }
   ],
   "source": [
    "import numpy as np\n",
    "\n",
    "def test_angle_evaluation(state, evaluation_multiplier, alpha, beta):\n",
    "    \"\"\"\n",
    "    Test function to isolate and debug the angle portion of the evaluation function.\n",
    "    \"\"\"\n",
    "    car_state = state[0]\n",
    "    car_pos = car_state[0:2]\n",
    "    car_yaw = car_state[2]\n",
    "\n",
    "    ooi_state = state[1]\n",
    "    ooi_reshaped = np.reshape(ooi_state, (4, 2))\n",
    "\n",
    "    cov_state = state[2]\n",
    "    cov_diag = np.diag(cov_state)\n",
    "    corner_traces = np.zeros((int(cov_diag.shape[0]/2),))\n",
    "\n",
    "    for i in range(corner_traces.shape[0]):\n",
    "        corner_traces[i] = cov_diag[i*2] + cov_diag[(i*2) + 1]\n",
    "\n",
    "    cum_bearing = 0.\n",
    "\n",
    "    for i in range(corner_traces.shape[0]):\n",
    "        ooi_bearing = np.arctan2(ooi_reshaped[i, 1] - car_pos[1], ooi_reshaped[i, 0] - car_pos[0])\n",
    "        bearing_delta = abs(ooi_bearing - car_yaw)\n",
    "\n",
    "        cum_bearing += corner_traces[i] * bearing_delta\n",
    "\n",
    "        print(f\"Corner {i} - Bearing: {bearing_delta}, Covariance Trace: {corner_traces[i]}\")\n",
    "        print(f\"Car yaw: {car_yaw}, OOI bearing: {ooi_bearing}\")\n",
    "        if bearing_delta < 0:\n",
    "            print(\"Negative bearing delta\")\n",
    "            print(f'Bearing delta: {bearing_delta}')\n",
    "            exit()\n",
    "\n",
    "    return evaluation_multiplier * beta * cum_bearing\n",
    "\n",
    "# Example state input for testing\n",
    "state = [\n",
    "    np.array([-5.0, 1.0, np.pi-0.2]),  # Car state [x, y, yaw]\n",
    "    np.zeros((8,)),  # OOI state (flattened 4 corners)\n",
    "    np.diag(np.ones((8,)))  # Covariance state (flattened)\n",
    "]\n",
    "\n",
    "evaluation_multiplier = 1.0\n",
    "alpha = 0.5\n",
    "beta = 0.5\n",
    "\n",
    "bearing_result = test_angle_evaluation(state, evaluation_multiplier, alpha, beta)\n",
    "print(f\"Cumulative Bearing Result: {bearing_result}\")\n"
   ]
  }
 ],
 "metadata": {
  "kernelspec": {
   "display_name": "Python 3",
   "language": "python",
   "name": "python3"
  },
  "language_info": {
   "codemirror_mode": {
    "name": "ipython",
    "version": 3
   },
   "file_extension": ".py",
   "mimetype": "text/x-python",
   "name": "python",
   "nbconvert_exporter": "python",
   "pygments_lexer": "ipython3",
   "version": "3.10.12"
  }
 },
 "nbformat": 4,
 "nbformat_minor": 2
}
