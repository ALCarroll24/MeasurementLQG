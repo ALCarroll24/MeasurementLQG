{
 "cells": [
  {
   "cell_type": "code",
   "execution_count": 3,
   "metadata": {},
   "outputs": [
    {
     "ename": "SyntaxError",
     "evalue": "invalid syntax (2300494070.py, line 2)",
     "output_type": "error",
     "traceback": [
      "\u001b[1;36m  Cell \u001b[1;32mIn[3], line 2\u001b[1;36m\u001b[0m\n\u001b[1;33m    pip uninstall -y torch torchvision torchaudio\u001b[0m\n\u001b[1;37m        ^\u001b[0m\n\u001b[1;31mSyntaxError\u001b[0m\u001b[1;31m:\u001b[0m invalid syntax\n"
     ]
    }
   ],
   "source": [
    "# Make sure they are uninstalled first (need specific version for windows) https://pytorch.org/get-started/locally/\n",
    "# pip uninstall -y torch torchvision torchaudio\n",
    "\n",
    "# pip install torch torchvision torchaudio --index-url https://download.pytorch.org/whl/cu121"
   ]
  },
  {
   "cell_type": "code",
   "execution_count": 1,
   "metadata": {},
   "outputs": [
    {
     "name": "stdout",
     "output_type": "stream",
     "text": [
      "Using device: cuda\n"
     ]
    }
   ],
   "source": [
    "import torch\n",
    "\n",
    "# Check if GPU (CUDA) is available and select device accordingly\n",
    "device = torch.device('cuda' if torch.cuda.is_available() else 'cpu')\n",
    "print(f'Using device: {device}')"
   ]
  },
  {
   "cell_type": "code",
   "execution_count": 5,
   "metadata": {},
   "outputs": [
    {
     "name": "stdout",
     "output_type": "stream",
     "text": [
      "Testing Large Matrix Multiplication:\n",
      "Size: 100x100, Device: cpu, Time: 0.0003 seconds\n",
      "Size: 100x100, Device: cuda, Time: 0.0001 seconds\n",
      "\n",
      "Size: 500x500, Device: cpu, Time: 0.0010 seconds\n",
      "Size: 500x500, Device: cuda, Time: 0.0001 seconds\n",
      "\n",
      "Size: 1000x1000, Device: cpu, Time: 0.0054 seconds\n",
      "Size: 1000x1000, Device: cuda, Time: 0.0001 seconds\n",
      "\n",
      "\n",
      "Testing Sequential Matrix Multiplication:\n",
      "Size: 100x100, Device: cpu, Time: 0.0004 seconds\n",
      "Size: 100x100, Device: cuda, Time: 0.0012 seconds\n",
      "\n",
      "Size: 500x500, Device: cpu, Time: 0.0013 seconds\n",
      "Size: 500x500, Device: cuda, Time: 0.0012 seconds\n",
      "\n",
      "Size: 1000x1000, Device: cpu, Time: 0.0027 seconds\n",
      "Size: 1000x1000, Device: cuda, Time: 0.0012 seconds\n",
      "\n"
     ]
    }
   ],
   "source": [
    "import torch\n",
    "import numpy as np\n",
    "import time\n",
    "\n",
    "def large_matrix_multiplication(N, device):\n",
    "    # Create random matrices\n",
    "    A = torch.randn(N, N, device=device)\n",
    "    B = torch.randn(N, N, device=device)\n",
    "    \n",
    "    # Start timer\n",
    "    start_time = time.time()\n",
    "    # Perform matrix multiplication\n",
    "    C = torch.mm(A, B)\n",
    "    # Stop timer and print the result\n",
    "    return time.time() - start_time\n",
    "\n",
    "def sequential_matrix_multiplication(N, device):\n",
    "    # Create random matrix and vector\n",
    "    A = torch.randn(N, N, device=device)\n",
    "    x = torch.randn(N, device=device)\n",
    "    \n",
    "    start_time = time.time()\n",
    "    # Simulate sequential update similar to Kalman filter updates\n",
    "    for _ in range(100):  # Assume 100 updates\n",
    "        x = torch.mv(A, x)\n",
    "    return time.time() - start_time\n",
    "\n",
    "def test_performance():\n",
    "    sizes = [100, 500, 1000]  # Different matrix sizes for testing\n",
    "    devices = ['cpu']\n",
    "    if torch.cuda.is_available():\n",
    "        devices.append('cuda')\n",
    "    \n",
    "    print(\"Testing Large Matrix Multiplication:\")\n",
    "    for size in sizes:\n",
    "        for device in devices:\n",
    "            duration = large_matrix_multiplication(size, device)\n",
    "            print(f\"Size: {size}x{size}, Device: {device}, Time: {duration:.4f} seconds\")\n",
    "        print()\n",
    "\n",
    "    print(\"\\nTesting Sequential Matrix Multiplication:\")\n",
    "    for size in sizes:\n",
    "        for device in devices:\n",
    "            duration = sequential_matrix_multiplication(size, device)\n",
    "            print(f\"Size: {size}x{size}, Device: {device}, Time: {duration:.4f} seconds\")\n",
    "        print()\n",
    "\n",
    "# Run the tests\n",
    "test_performance()\n"
   ]
  },
  {
   "cell_type": "code",
   "execution_count": 7,
   "metadata": {},
   "outputs": [
    {
     "name": "stdout",
     "output_type": "stream",
     "text": [
      "Testing Large Matrix Multiplication:\n",
      "Size: 100x100, Device: numpy, Time: 0.0016 seconds\n",
      "Size: 100x100, Device: cpu, Time: 0.0116 seconds\n",
      "Size: 100x100, Device: cuda, Time: 0.0001 seconds\n",
      "\n",
      "Size: 500x500, Device: numpy, Time: 0.0020 seconds\n",
      "Size: 500x500, Device: cpu, Time: 0.0370 seconds\n",
      "Size: 500x500, Device: cuda, Time: 0.0001 seconds\n",
      "\n",
      "Size: 1000x1000, Device: numpy, Time: 0.0231 seconds\n",
      "Size: 1000x1000, Device: cpu, Time: 0.0329 seconds\n",
      "Size: 1000x1000, Device: cuda, Time: 0.0001 seconds\n",
      "\n",
      "\n",
      "Testing Sequential Matrix Multiplication:\n",
      "Size: 100x100, Device: numpy, Time: 0.0127 seconds\n",
      "Size: 100x100, Device: cpu, Time: 0.0005 seconds\n",
      "Size: 100x100, Device: cuda, Time: 0.0014 seconds\n",
      "\n",
      "Size: 500x500, Device: numpy, Time: 0.0087 seconds\n",
      "Size: 500x500, Device: cpu, Time: 0.1153 seconds\n",
      "Size: 500x500, Device: cuda, Time: 0.0014 seconds\n",
      "\n",
      "Size: 1000x1000, Device: numpy, Time: 0.0054 seconds\n",
      "Size: 1000x1000, Device: cpu, Time: 0.1105 seconds\n",
      "Size: 1000x1000, Device: cuda, Time: 0.0011 seconds\n",
      "\n"
     ]
    }
   ],
   "source": [
    "import torch\n",
    "import numpy as np\n",
    "import time\n",
    "\n",
    "def large_matrix_multiplication_torch(N, device):\n",
    "    A = torch.randn(N, N, device=device)\n",
    "    B = torch.randn(N, N, device=device)\n",
    "    start_time = time.time()\n",
    "    C = torch.mm(A, B)\n",
    "    return time.time() - start_time\n",
    "\n",
    "def large_matrix_multiplication_numpy(N):\n",
    "    A = np.random.randn(N, N)\n",
    "    B = np.random.randn(N, N)\n",
    "    start_time = time.time()\n",
    "    C = np.dot(A, B)\n",
    "    return time.time() - start_time\n",
    "\n",
    "def sequential_matrix_multiplication_torch(N, device):\n",
    "    A = torch.randn(N, N, device=device)\n",
    "    x = torch.randn(N, device=device)\n",
    "    start_time = time.time()\n",
    "    for _ in range(100):\n",
    "        x = torch.mv(A, x)\n",
    "    return time.time() - start_time\n",
    "\n",
    "def sequential_matrix_multiplication_numpy(N):\n",
    "    A = np.random.randn(N, N)\n",
    "    x = np.random.randn(N)\n",
    "    start_time = time.time()\n",
    "    for _ in range(100):\n",
    "        x = np.dot(A, x)\n",
    "    return time.time() - start_time\n",
    "\n",
    "def test_performance():\n",
    "    sizes = [100, 500, 1000]  # Matrix sizes for testing\n",
    "    devices = ['cpu']\n",
    "    if torch.cuda.is_available():\n",
    "        devices.append('cuda')\n",
    "    \n",
    "    print(\"Testing Large Matrix Multiplication:\")\n",
    "    for size in sizes:\n",
    "        numpy_time = large_matrix_multiplication_numpy(size)\n",
    "        print(f\"Size: {size}x{size}, Device: numpy, Time: {numpy_time:.4f} seconds\")\n",
    "        for device in devices:\n",
    "            torch_time = large_matrix_multiplication_torch(size, device)\n",
    "            print(f\"Size: {size}x{size}, Device: {device}, Time: {torch_time:.4f} seconds\")\n",
    "        print()\n",
    "\n",
    "    print(\"\\nTesting Sequential Matrix Multiplication:\")\n",
    "    for size in sizes:\n",
    "        numpy_time = sequential_matrix_multiplication_numpy(size)\n",
    "        print(f\"Size: {size}x{size}, Device: numpy, Time: {numpy_time:.4f} seconds\")\n",
    "        for device in devices:\n",
    "            torch_time = sequential_matrix_multiplication_torch(size, device)\n",
    "            print(f\"Size: {size}x{size}, Device: {device}, Time: {torch_time:.4f} seconds\")\n",
    "        print()\n",
    "\n",
    "# Run the performance tests\n",
    "test_performance()\n"
   ]
  }
 ],
 "metadata": {
  "kernelspec": {
   "display_name": "Python 3",
   "language": "python",
   "name": "python3"
  },
  "language_info": {
   "codemirror_mode": {
    "name": "ipython",
    "version": 3
   },
   "file_extension": ".py",
   "mimetype": "text/x-python",
   "name": "python",
   "nbconvert_exporter": "python",
   "pygments_lexer": "ipython3",
   "version": "3.10.12"
  }
 },
 "nbformat": 4,
 "nbformat_minor": 2
}
