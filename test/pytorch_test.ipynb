{
 "cells": [
  {
   "cell_type": "code",
   "execution_count": null,
   "metadata": {},
   "outputs": [],
   "source": [
    "pip install torch torchvision torchaudio"
   ]
  },
  {
   "cell_type": "code",
   "execution_count": 1,
   "metadata": {},
   "outputs": [
    {
     "name": "stdout",
     "output_type": "stream",
     "text": [
      "Using device: cuda\n"
     ]
    }
   ],
   "source": [
    "import torch\n",
    "\n",
    "# Check if GPU (CUDA) is available and select device accordingly\n",
    "device = torch.device('cuda' if torch.cuda.is_available() else 'cpu')\n",
    "print(f'Using device: {device}')"
   ]
  },
  {
   "cell_type": "code",
   "execution_count": 2,
   "metadata": {},
   "outputs": [
    {
     "name": "stdout",
     "output_type": "stream",
     "text": [
      "tensor([[  4.7232,   7.1096,  71.8654,  ...,  10.6759,   5.4886,  54.0999],\n",
      "        [-30.2523,  -9.3240, -10.4275,  ...,  16.6550, -67.1320,   3.1089],\n",
      "        [  1.9107,  -6.0669,  -0.3362,  ...,  12.4598,  37.2919,   2.5924],\n",
      "        ...,\n",
      "        [ 15.6914,  16.2475, -34.3580,  ...,  15.3638,  63.8285,   5.2376],\n",
      "        [ 25.0542,  -9.0293,  35.6686,  ..., -36.5210,   8.1829, -22.6505],\n",
      "        [-19.8489,  68.5170, -15.0283,  ..., -13.3172, -19.8179, -42.1003]],\n",
      "       device='cuda:0')\n",
      "Result tensor is on: cuda:0\n"
     ]
    }
   ],
   "source": [
    "# Create two tensors of size (1000, 1000) filled with random numbers\n",
    "# .to(device) ensures these tensors are moved to the chosen device\n",
    "tensor1 = torch.randn(1000, 1000, device=device)\n",
    "tensor2 = torch.randn(1000, 1000, device=device)\n",
    "\n",
    "# Perform matrix multiplication\n",
    "result = torch.matmul(tensor1, tensor2)\n",
    "\n",
    "# Print the result\n",
    "print(result)\n",
    "\n",
    "# Optionally, to check if the operation used the GPU, you can print the device of the result tensor\n",
    "print(f'Result tensor is on: {result.device}')"
   ]
  }
 ],
 "metadata": {
  "kernelspec": {
   "display_name": "Python 3",
   "language": "python",
   "name": "python3"
  },
  "language_info": {
   "codemirror_mode": {
    "name": "ipython",
    "version": 3
   },
   "file_extension": ".py",
   "mimetype": "text/x-python",
   "name": "python",
   "nbconvert_exporter": "python",
   "pygments_lexer": "ipython3",
   "version": "3.8.3"
  }
 },
 "nbformat": 4,
 "nbformat_minor": 2
}
