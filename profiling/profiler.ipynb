{
 "cells": [
  {
   "cell_type": "code",
   "execution_count": 1,
   "metadata": {},
   "outputs": [
    {
     "name": "stdout",
     "output_type": "stream",
     "text": [
      "Defaulting to user installation because normal site-packages is not writeable\n",
      "Collecting snakeviz\n",
      "  Downloading snakeviz-2.2.0-py2.py3-none-any.whl (283 kB)\n",
      "\u001b[2K     \u001b[90m━━━━━━━━━━━━━━━━━━━━━━━━━━━━━━━━━━━━━━━\u001b[0m \u001b[32m283.7/283.7 KB\u001b[0m \u001b[31m7.8 MB/s\u001b[0m eta \u001b[36m0:00:00\u001b[0m00:01\u001b[0m\n",
      "\u001b[?25hRequirement already satisfied: tornado>=2.0 in /home/agc/.local/lib/python3.10/site-packages (from snakeviz) (6.4)\n",
      "Installing collected packages: snakeviz\n",
      "Successfully installed snakeviz-2.2.0\n",
      "Note: you may need to restart the kernel to use updated packages.\n"
     ]
    }
   ],
   "source": [
    "!pip install snakeviz"
   ]
  },
  {
   "cell_type": "markdown",
   "metadata": {},
   "source": [
    "## Run the MCTS code and get profiler output"
   ]
  },
  {
   "cell_type": "code",
   "execution_count": 10,
   "metadata": {},
   "outputs": [
    {
     "name": "stdout",
     "output_type": "stream",
     "text": [
      "/home/agc/.local/lib/python3.10/site-packages/matplotlib/projections/__init__.py:63: UserWarning: Unable to import Axes3D. This may be due to multiple versions of Matplotlib being installed (e.g. as a system package and as a pip package). As a result, the 3D projection is not available.\n",
      "  warnings.warn(\"Unable to import Axes3D. This may be due to multiple versions of \"\n",
      "Running one iteration for profiling\n",
      "Using GPU\n",
      "Traceback (most recent call last):\n",
      "  File \"/usr/lib/python3.10/runpy.py\", line 196, in _run_module_as_main\n",
      "    return _run_code(code, main_globals, None,\n",
      "  File \"/usr/lib/python3.10/runpy.py\", line 86, in _run_code\n",
      "    exec(code, run_globals)\n",
      "  File \"/usr/lib/python3.10/cProfile.py\", line 191, in <module>\n",
      "    main()\n",
      "  File \"/usr/lib/python3.10/cProfile.py\", line 180, in main\n",
      "    runctx(code, globs, None, options.outfile, options.sort)\n",
      "  File \"/usr/lib/python3.10/cProfile.py\", line 20, in runctx\n",
      "    return _pyprofile._Utils(Profile).runctx(statement, globals, locals,\n",
      "  File \"/usr/lib/python3.10/profile.py\", line 63, in runctx\n",
      "    prof.runctx(statement, globals, locals)\n",
      "  File \"/usr/lib/python3.10/cProfile.py\", line 101, in runctx\n",
      "    exec(cmd, globals, locals)\n",
      "  File \"../main.py\", line 290, in <module>\n",
      "    tmc.run()\n",
      "  File \"../main.py\", line 79, in run\n",
      "    observable_corners, indeces = self.ooi.get_noisy_observation(self.car.get_state())\n",
      "  File \"/home/agc/code_scratch/MeasurementLQG/profiling/../ooi.py\", line 127, in get_noisy_observation\n",
      "    observable_corners, indeces = self.get_observation(car_state, draw=draw)\n",
      "  File \"/home/agc/code_scratch/MeasurementLQG/profiling/../ooi.py\", line 118, in get_observation\n",
      "    self.ui.draw_circle(corner, 0.6)\n",
      "  File \"/home/agc/code_scratch/MeasurementLQG/profiling/../ui.py\", line 100, in draw_circle\n",
      "    self.ax.add_patch(circle)\n",
      "  File \"/home/agc/.local/lib/python3.10/site-packages/matplotlib/axes/_base.py\", line 2386, in add_patch\n",
      "    self._update_patch_limits(p)\n",
      "  File \"/home/agc/.local/lib/python3.10/site-packages/matplotlib/axes/_base.py\", line 2417, in _update_patch_limits\n",
      "    patch_trf = patch.get_transform()\n",
      "  File \"/home/agc/.local/lib/python3.10/site-packages/matplotlib/patches.py\", line 308, in get_transform\n",
      "    return self.get_patch_transform() + artist.Artist.get_transform(self)\n",
      "  File \"/home/agc/.local/lib/python3.10/site-packages/matplotlib/patches.py\", line 1653, in get_patch_transform\n",
      "    self._recompute_transform()\n",
      "  File \"/home/agc/.local/lib/python3.10/site-packages/matplotlib/patches.py\", line 1638, in _recompute_transform\n",
      "    center = (self.convert_xunits(self._center[0]),\n",
      "  File \"/home/agc/.local/lib/python3.10/site-packages/matplotlib/artist.py\", line 279, in convert_xunits\n",
      "    return ax.xaxis.convert_units(x)\n",
      "  File \"/home/agc/.local/lib/python3.10/site-packages/matplotlib/axis.py\", line 1799, in convert_units\n",
      "    self.converter = munits.registry.get_converter(x)\n",
      "  File \"/home/agc/.local/lib/python3.10/site-packages/matplotlib/units.py\", line 167, in get_converter\n",
      "    x = cbook._unpack_to_numpy(x)\n",
      "  File \"/home/agc/.local/lib/python3.10/site-packages/matplotlib/cbook.py\", line 2400, in _unpack_to_numpy\n",
      "    xtmp = x.__array__()\n",
      "  File \"/home/agc/.local/lib/python3.10/site-packages/torch/_tensor.py\", line 1085, in __array__\n",
      "    return handle_torch_function(Tensor.__array__, (self,), self, dtype=dtype)\n",
      "  File \"/home/agc/.local/lib/python3.10/site-packages/torch/overrides.py\", line 1619, in handle_torch_function\n",
      "    result = mode.__torch_function__(public_api, types, args, kwargs)\n",
      "  File \"/home/agc/.local/lib/python3.10/site-packages/torch/utils/_device.py\", line 78, in __torch_function__\n",
      "    return func(*args, **kwargs)\n",
      "  File \"/home/agc/.local/lib/python3.10/site-packages/torch/_tensor.py\", line 1087, in __array__\n",
      "    return self.numpy()\n",
      "TypeError: can't convert cuda:0 device type tensor to numpy. Use Tensor.cpu() to copy the tensor to host memory first.\n"
     ]
    }
   ],
   "source": [
    "filename = \"profile_output.prof\"\n",
    "!python3 -m cProfile -o filename ../main.py --one_iteration=True\n"
   ]
  }
 ],
 "metadata": {
  "kernelspec": {
   "display_name": "Python 3",
   "language": "python",
   "name": "python3"
  },
  "language_info": {
   "codemirror_mode": {
    "name": "ipython",
    "version": 3
   },
   "file_extension": ".py",
   "mimetype": "text/x-python",
   "name": "python",
   "nbconvert_exporter": "python",
   "pygments_lexer": "ipython3",
   "version": "3.10.12"
  }
 },
 "nbformat": 4,
 "nbformat_minor": 2
}
